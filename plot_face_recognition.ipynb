{
 "cells": [
  {
   "cell_type": "code",
   "execution_count": 3,
   "metadata": {},
   "outputs": [],
   "source": [
    "%matplotlib inline"
   ]
  },
  {
   "cell_type": "markdown",
   "metadata": {},
   "source": [
    "\n",
    "# Faces recognition example using eigenfaces and SVMs\n",
    "\n",
    "The dataset used in this example is a preprocessed excerpt of the\n",
    "\"Labeled Faces in the Wild\", aka LFW_:\n",
    "\n",
    "  http://vis-www.cs.umass.edu/lfw/lfw-funneled.tgz (233MB)\n",
    "\n"
   ]
  },
  {
   "cell_type": "code",
   "execution_count": 16,
   "metadata": {},
   "outputs": [],
   "source": [
    "from time import time\n",
    "import matplotlib.pyplot as plt\n",
    "from main import process_threaded as filter\n",
    "from main import get_image, build_filters\n",
    "from diplom_code import GaborFiltering as gabor\n",
    "from diplom_code import AdditionalFitering as filter\n",
    "\n",
    "from sklearn.model_selection import train_test_split\n",
    "from sklearn.model_selection import RandomizedSearchCV\n",
    "from sklearn.datasets import fetch_lfw_people\n",
    "from sklearn.metrics import classification_report\n",
    "from sklearn.metrics import ConfusionMatrixDisplay\n",
    "from sklearn.preprocessing import StandardScaler\n",
    "from sklearn.decomposition import PCA\n",
    "from sklearn.svm import SVC\n",
    "from sklearn.utils.fixes import loguniform\n",
    "\n",
    "import numpy as np\n",
    "import cv2\n",
    "import os"
   ]
  },
  {
   "cell_type": "markdown",
   "metadata": {},
   "source": [
    "Download the data, if not already on disk and load it as numpy arrays\n",
    "\n"
   ]
  },
  {
   "cell_type": "code",
   "execution_count": 17,
   "metadata": {},
   "outputs": [
    {
     "ename": "AttributeError",
     "evalue": "'str' object has no attribute 'shape'",
     "output_type": "error",
     "traceback": [
      "\u001b[1;31m---------------------------------------------------------------------------\u001b[0m",
      "\u001b[1;31mAttributeError\u001b[0m                            Traceback (most recent call last)",
      "\u001b[1;32mc:\\Users\\imotw\\PycharmProjects\\diplom_matvey\\plot_face_recognition.ipynb Cell 5'\u001b[0m in \u001b[0;36m<module>\u001b[1;34m\u001b[0m\n\u001b[0;32m     <a href='vscode-notebook-cell:/c%3A/Users/imotw/PycharmProjects/diplom_matvey/plot_face_recognition.ipynb#ch0000004?line=11'>12</a>\u001b[0m cv2\u001b[39m.\u001b[39mimwrite(n_path \u001b[39m+\u001b[39m image, img_0)\n\u001b[0;32m     <a href='vscode-notebook-cell:/c%3A/Users/imotw/PycharmProjects/diplom_matvey/plot_face_recognition.ipynb#ch0000004?line=12'>13</a>\u001b[0m \u001b[39m#img = cv2.imread(path + image + '_o', 0)\u001b[39;00m\n\u001b[1;32m---> <a href='vscode-notebook-cell:/c%3A/Users/imotw/PycharmProjects/diplom_matvey/plot_face_recognition.ipynb#ch0000004?line=13'>14</a>\u001b[0m img \u001b[39m=\u001b[39m \u001b[39mfilter\u001b[39;49m\u001b[39m.\u001b[39;49mskeletonization((n_path \u001b[39m+\u001b[39;49m image))\n\u001b[0;32m     <a href='vscode-notebook-cell:/c%3A/Users/imotw/PycharmProjects/diplom_matvey/plot_face_recognition.ipynb#ch0000004?line=14'>15</a>\u001b[0m h, w \u001b[39m=\u001b[39m img\u001b[39m.\u001b[39mshape\n\u001b[0;32m     <a href='vscode-notebook-cell:/c%3A/Users/imotw/PycharmProjects/diplom_matvey/plot_face_recognition.ipynb#ch0000004?line=15'>16</a>\u001b[0m img \u001b[39m=\u001b[39m cv2\u001b[39m.\u001b[39mpyrDown(img, dstsize\u001b[39m=\u001b[39m(w \u001b[39m/\u001b[39m\u001b[39m/\u001b[39m \u001b[39m2\u001b[39m, h \u001b[39m/\u001b[39m\u001b[39m/\u001b[39m \u001b[39m2\u001b[39m))\n",
      "File \u001b[1;32mc:\\Users\\imotw\\PycharmProjects\\diplom_matvey\\diplom_code.py:99\u001b[0m, in \u001b[0;36mAdditionalFitering.skeletonization\u001b[1;34m(image)\u001b[0m\n",
      "\u001b[1;31mAttributeError\u001b[0m: 'str' object has no attribute 'shape'"
     ]
    }
   ],
   "source": [
    "# lfw_people = fetch_lfw_people(min_faces_per_person=70, resize=0.4)\n",
    "path = 'C:/Users/imotw/PycharmProjects/diplom_matvey/lad/' \n",
    "n_path = 'C:/Users/imotw/PycharmProjects/diplom_matvey/n_lad/'       \n",
    "images = os.listdir(path)\n",
    "hands = []\n",
    "\n",
    "for image in images:\n",
    "    #img = get_image(path + image)\n",
    "    img_0 = cv2.imread(path + image)\n",
    "    img_0 = filter.get_final_picture(img_0, ksize=20, sigma=20.2, lambd=19.5, gamma=2.1, psi=0)\n",
    "    #img = cv2.adaptiveThreshold(img, 255, cv2.ADAPTIVE_THRESH_GAUSSIAN_C, cv2.THRESH_BINARY, 51, 5)\n",
    "    cv2.imwrite(n_path + image, img_0)\n",
    "    #img = cv2.imread(path + image + '_o', 0)\n",
    "    img = filter.skeletonization(n_path + image)\n",
    "    h, w = img.shape\n",
    "    img = cv2.pyrDown(img, dstsize=(w // 2, h // 2))\n",
    "    h, w = img.shape\n",
    "    hands.append(img.flatten())\n",
    "    #plt.imshow(img)\n",
    "    #plt.imshow(img_0)\n",
    "    \n",
    "# introspect the images arrays to find the shapes (for plotting)\n",
    "n_samples = len(hands)\n",
    "X = np.array(hands)\n",
    "# for machine learning we use the 2 data direcvtly (as relative pixel\n",
    "# positions info is ignored by this model)\n",
    "n_features = X.shape[1]\n",
    "\n",
    "# the label to predict is the id of the person\n",
    "\n",
    "print(\"Total dataset size:\")\n",
    "print(\"n_samples: %d\" % n_samples)\n",
    "print(\"n_features: %d\" % n_features)"
   ]
  },
  {
   "cell_type": "code",
   "execution_count": 5,
   "metadata": {},
   "outputs": [
    {
     "ename": "AttributeError",
     "evalue": "type object 'PCA' has no attribute 'components_'",
     "output_type": "error",
     "traceback": [
      "\u001b[1;31m---------------------------------------------------------------------------\u001b[0m",
      "\u001b[1;31mAttributeError\u001b[0m                            Traceback (most recent call last)",
      "\u001b[1;32mc:\\Users\\imotw\\PycharmProjects\\diplom_matvey\\plot_face_recognition.ipynb Cell 6'\u001b[0m in \u001b[0;36m<module>\u001b[1;34m\u001b[0m\n\u001b[1;32m----> <a href='vscode-notebook-cell:/c%3A/Users/imotw/PycharmProjects/diplom_matvey/plot_face_recognition.ipynb#ch0000005?line=0'>1</a>\u001b[0m im \u001b[39m=\u001b[39m PCA\u001b[39m.\u001b[39;49mcomponents_[\u001b[39m0\u001b[39m]\u001b[39m.\u001b[39mreshape((h, w))\n",
      "\u001b[1;31mAttributeError\u001b[0m: type object 'PCA' has no attribute 'components_'"
     ]
    }
   ],
   "source": [
    "im = PCA.components_[0].reshape((h, w))\n"
   ]
  },
  {
   "cell_type": "markdown",
   "metadata": {},
   "source": [
    "Split into a training set and a test and keep 25% of the data for testing.\n",
    "\n"
   ]
  },
  {
   "cell_type": "code",
   "execution_count": 6,
   "metadata": {},
   "outputs": [],
   "source": [
    "\"\"\"X_train, X_test, y_train, y_test = train_test_split(\n",
    "    X, y, test_size=0.25, random_state=42\n",
    ")\n",
    "\"\"\"\n",
    "scaler = StandardScaler()\n",
    "X = scaler.fit_transform(X)"
   ]
  },
  {
   "cell_type": "markdown",
   "metadata": {},
   "source": [
    "Compute a PCA (eigenfaces) on the face dataset (treated as unlabeled\n",
    "dataset): unsupervised feature extraction / dimensionality reduction\n",
    "\n"
   ]
  },
  {
   "cell_type": "code",
   "execution_count": 7,
   "metadata": {},
   "outputs": [
    {
     "name": "stdout",
     "output_type": "stream",
     "text": [
      "Extracting the top 150 eigenfaces from 570 faces\n",
      "done in 1.341s\n",
      "Projecting the input data on the eigenfaces orthonormal basis\n",
      "done in 0.077s\n"
     ]
    }
   ],
   "source": [
    "n_components = 150\n",
    "\n",
    "print(\n",
    "    \"Extracting the top %d eigenfaces from %d faces\" % (n_components, X.shape[0])\n",
    ")\n",
    "t0 = time()\n",
    "pca = PCA(n_components=n_components, svd_solver=\"randomized\", whiten=True).fit(X)\n",
    "print(\"done in %0.3fs\" % (time() - t0))\n",
    "\n",
    "eigenfaces = pca.components_.reshape((n_components, h, w))\n",
    "\n",
    "print(\"Projecting the input data on the eigenfaces orthonormal basis\")\n",
    "t0 = time()\n",
    "X_pca = pca.transform(X)\n",
    "print(\"done in %0.3fs\" % (time() - t0))"
   ]
  },
  {
   "cell_type": "markdown",
   "metadata": {},
   "source": [
    "Train a SVM classification model\n",
    "\n"
   ]
  },
  {
   "cell_type": "code",
   "execution_count": 8,
   "metadata": {},
   "outputs": [
    {
     "name": "stdout",
     "output_type": "stream",
     "text": [
      "Fitting the classifier to the training set\n",
      "done in 0.001s\n",
      "Best estimator found by grid search:\n"
     ]
    },
    {
     "ename": "AttributeError",
     "evalue": "'RandomizedSearchCV' object has no attribute 'best_estimator_'",
     "output_type": "error",
     "traceback": [
      "\u001b[1;31m---------------------------------------------------------------------------\u001b[0m",
      "\u001b[1;31mAttributeError\u001b[0m                            Traceback (most recent call last)",
      "\u001b[1;32mc:\\Users\\imotw\\PycharmProjects\\diplom_matvey\\plot_face_recognition.ipynb Cell 12'\u001b[0m in \u001b[0;36m<module>\u001b[1;34m\u001b[0m\n\u001b[0;32m     <a href='vscode-notebook-cell:/c%3A/Users/imotw/PycharmProjects/diplom_matvey/plot_face_recognition.ipynb#ch0000011?line=10'>11</a>\u001b[0m \u001b[39mprint\u001b[39m(\u001b[39m\"\u001b[39m\u001b[39mdone in \u001b[39m\u001b[39m%0.3f\u001b[39;00m\u001b[39ms\u001b[39m\u001b[39m\"\u001b[39m \u001b[39m%\u001b[39m (time() \u001b[39m-\u001b[39m t0))\n\u001b[0;32m     <a href='vscode-notebook-cell:/c%3A/Users/imotw/PycharmProjects/diplom_matvey/plot_face_recognition.ipynb#ch0000011?line=11'>12</a>\u001b[0m \u001b[39mprint\u001b[39m(\u001b[39m\"\u001b[39m\u001b[39mBest estimator found by grid search:\u001b[39m\u001b[39m\"\u001b[39m)\n\u001b[1;32m---> <a href='vscode-notebook-cell:/c%3A/Users/imotw/PycharmProjects/diplom_matvey/plot_face_recognition.ipynb#ch0000011?line=12'>13</a>\u001b[0m \u001b[39mprint\u001b[39m(clf\u001b[39m.\u001b[39;49mbest_estimator_)\n",
      "\u001b[1;31mAttributeError\u001b[0m: 'RandomizedSearchCV' object has no attribute 'best_estimator_'"
     ]
    }
   ],
   "source": [
    "print(\"Fitting the classifier to the training set\")\n",
    "t0 = time()\n",
    "param_grid = {\n",
    "    \"C\": loguniform(1e3, 1e5),\n",
    "    \"gamma\": loguniform(1e-4, 1e-1),\n",
    "}\n",
    "clf = RandomizedSearchCV(\n",
    "    SVC(kernel=\"rbf\", class_weight=\"balanced\"), param_grid, n_iter=10\n",
    ")\n",
    "# clf = clf.fit(X_train_pca, y_train)\n",
    "print(\"done in %0.3fs\" % (time() - t0))\n",
    "print(\"Best estimator found by grid search:\")\n",
    "print(clf.best_estimator_)"
   ]
  },
  {
   "cell_type": "markdown",
   "metadata": {},
   "source": [
    "Quantitative evaluation of the model quality on the test set\n",
    "\n"
   ]
  },
  {
   "cell_type": "code",
   "execution_count": 9,
   "metadata": {},
   "outputs": [
    {
     "name": "stdout",
     "output_type": "stream",
     "text": [
      "Predicting people's names on the test set\n"
     ]
    },
    {
     "ename": "NameError",
     "evalue": "name 'X_test_pca' is not defined",
     "output_type": "error",
     "traceback": [
      "\u001b[1;31m---------------------------------------------------------------------------\u001b[0m",
      "\u001b[1;31mNameError\u001b[0m                                 Traceback (most recent call last)",
      "\u001b[1;32mc:\\Users\\imotw\\PycharmProjects\\diplom_matvey\\plot_face_recognition.ipynb Cell 14'\u001b[0m in \u001b[0;36m<module>\u001b[1;34m\u001b[0m\n\u001b[0;32m      <a href='vscode-notebook-cell:/c%3A/Users/imotw/PycharmProjects/diplom_matvey/plot_face_recognition.ipynb#ch0000013?line=0'>1</a>\u001b[0m \u001b[39mprint\u001b[39m(\u001b[39m\"\u001b[39m\u001b[39mPredicting people\u001b[39m\u001b[39m'\u001b[39m\u001b[39ms names on the test set\u001b[39m\u001b[39m\"\u001b[39m)\n\u001b[0;32m      <a href='vscode-notebook-cell:/c%3A/Users/imotw/PycharmProjects/diplom_matvey/plot_face_recognition.ipynb#ch0000013?line=1'>2</a>\u001b[0m t0 \u001b[39m=\u001b[39m time()\n\u001b[1;32m----> <a href='vscode-notebook-cell:/c%3A/Users/imotw/PycharmProjects/diplom_matvey/plot_face_recognition.ipynb#ch0000013?line=2'>3</a>\u001b[0m y_pred \u001b[39m=\u001b[39m clf\u001b[39m.\u001b[39mpredict(X_test_pca)\n\u001b[0;32m      <a href='vscode-notebook-cell:/c%3A/Users/imotw/PycharmProjects/diplom_matvey/plot_face_recognition.ipynb#ch0000013?line=3'>4</a>\u001b[0m \u001b[39mprint\u001b[39m(\u001b[39m\"\u001b[39m\u001b[39mdone in \u001b[39m\u001b[39m%0.3f\u001b[39;00m\u001b[39ms\u001b[39m\u001b[39m\"\u001b[39m \u001b[39m%\u001b[39m (time() \u001b[39m-\u001b[39m t0))\n\u001b[0;32m      <a href='vscode-notebook-cell:/c%3A/Users/imotw/PycharmProjects/diplom_matvey/plot_face_recognition.ipynb#ch0000013?line=5'>6</a>\u001b[0m \u001b[39mprint\u001b[39m(classification_report(y_test, y_pred, target_names\u001b[39m=\u001b[39mtarget_names))\n",
      "\u001b[1;31mNameError\u001b[0m: name 'X_test_pca' is not defined"
     ]
    }
   ],
   "source": [
    "print(\"Predicting people's names on the test set\")\n",
    "t0 = time()\n",
    "y_pred = clf.predict(X_test_pca)\n",
    "print(\"done in %0.3fs\" % (time() - t0))\n",
    "\n",
    "print(classification_report(y_test, y_pred, target_names=target_names))\n",
    "ConfusionMatrixDisplay.from_estimator(\n",
    "    clf, X_test_pca, y_test, display_labels=target_names, xticks_rotation=\"vertical\"\n",
    ")\n",
    "plt.tight_layout()\n",
    "plt.show()"
   ]
  },
  {
   "cell_type": "markdown",
   "metadata": {},
   "source": [
    "Qualitative evaluation of the predictions using matplotlib\n",
    "\n"
   ]
  },
  {
   "cell_type": "code",
   "execution_count": 10,
   "metadata": {},
   "outputs": [],
   "source": [
    "def plot_gallery(images, titles, h, w, n_row=3, n_col=4):\n",
    "    \"\"\"Helper function to plot a gallery of portraits\"\"\"\n",
    "    plt.figure(figsize=(1.8 * n_col, 2.4 * n_row))\n",
    "    plt.subplots_adjust(bottom=0, left=0.01, right=0.99, top=0.90, hspace=0.35)\n",
    "    for i in range(n_row * n_col):\n",
    "        plt.subplot(n_row, n_col, i + 1)\n",
    "        plt.imshow(images[i].reshape((h, w)), cmap=plt.cm.gray)\n",
    "        plt.title(titles[i], size=12)\n",
    "        plt.xticks(())\n",
    "        plt.yticks(())"
   ]
  },
  {
   "cell_type": "markdown",
   "metadata": {},
   "source": [
    "plot the result of the prediction on a portion of the test set\n",
    "\n"
   ]
  },
  {
   "cell_type": "code",
   "execution_count": 11,
   "metadata": {},
   "outputs": [
    {
     "ename": "NameError",
     "evalue": "name 'y_pred' is not defined",
     "output_type": "error",
     "traceback": [
      "\u001b[1;31m---------------------------------------------------------------------------\u001b[0m",
      "\u001b[1;31mNameError\u001b[0m                                 Traceback (most recent call last)",
      "\u001b[1;32mc:\\Users\\imotw\\PycharmProjects\\diplom_matvey\\plot_face_recognition.ipynb Cell 18'\u001b[0m in \u001b[0;36m<module>\u001b[1;34m\u001b[0m\n\u001b[0;32m      <a href='vscode-notebook-cell:/c%3A/Users/imotw/PycharmProjects/diplom_matvey/plot_face_recognition.ipynb#ch0000017?line=2'>3</a>\u001b[0m     true_name \u001b[39m=\u001b[39m target_names[y_test[i]]\u001b[39m.\u001b[39mrsplit(\u001b[39m\"\u001b[39m\u001b[39m \u001b[39m\u001b[39m\"\u001b[39m, \u001b[39m1\u001b[39m)[\u001b[39m-\u001b[39m\u001b[39m1\u001b[39m]\n\u001b[0;32m      <a href='vscode-notebook-cell:/c%3A/Users/imotw/PycharmProjects/diplom_matvey/plot_face_recognition.ipynb#ch0000017?line=3'>4</a>\u001b[0m     \u001b[39mreturn\u001b[39;00m \u001b[39m\"\u001b[39m\u001b[39mpredicted: \u001b[39m\u001b[39m%s\u001b[39;00m\u001b[39m\\n\u001b[39;00m\u001b[39mtrue:      \u001b[39m\u001b[39m%s\u001b[39;00m\u001b[39m\"\u001b[39m \u001b[39m%\u001b[39m (pred_name, true_name)\n\u001b[0;32m      <a href='vscode-notebook-cell:/c%3A/Users/imotw/PycharmProjects/diplom_matvey/plot_face_recognition.ipynb#ch0000017?line=6'>7</a>\u001b[0m prediction_titles \u001b[39m=\u001b[39m [\n\u001b[1;32m----> <a href='vscode-notebook-cell:/c%3A/Users/imotw/PycharmProjects/diplom_matvey/plot_face_recognition.ipynb#ch0000017?line=7'>8</a>\u001b[0m     title(y_pred, y_test, target_names, i) \u001b[39mfor\u001b[39;00m i \u001b[39min\u001b[39;00m \u001b[39mrange\u001b[39m(y_pred\u001b[39m.\u001b[39mshape[\u001b[39m0\u001b[39m])\n\u001b[0;32m      <a href='vscode-notebook-cell:/c%3A/Users/imotw/PycharmProjects/diplom_matvey/plot_face_recognition.ipynb#ch0000017?line=8'>9</a>\u001b[0m ]\n\u001b[0;32m     <a href='vscode-notebook-cell:/c%3A/Users/imotw/PycharmProjects/diplom_matvey/plot_face_recognition.ipynb#ch0000017?line=10'>11</a>\u001b[0m plot_gallery(X_test, prediction_titles, h, w)\n",
      "\u001b[1;31mNameError\u001b[0m: name 'y_pred' is not defined"
     ]
    }
   ],
   "source": [
    "def title(y_pred, y_test, target_names, i):\n",
    "    pred_name = target_names[y_pred[i]].rsplit(\" \", 1)[-1]\n",
    "    true_name = target_names[y_test[i]].rsplit(\" \", 1)[-1]\n",
    "    return \"predicted: %s\\ntrue:      %s\" % (pred_name, true_name)\n",
    "\n",
    "\n",
    "prediction_titles = [\n",
    "    title(y_pred, y_test, target_names, i) for i in range(y_pred.shape[0])\n",
    "]\n",
    "\n",
    "plot_gallery(X_test, prediction_titles, h, w)"
   ]
  },
  {
   "cell_type": "markdown",
   "metadata": {},
   "source": [
    "plot the gallery of the most significative eigenfaces\n",
    "\n"
   ]
  },
  {
   "cell_type": "code",
   "execution_count": 12,
   "metadata": {},
   "outputs": [
    {
     "data": {
      "image/png": "[encoded data removed]",
      "text/plain": [
       "<Figure size 518.4x518.4 with 12 Axes>"
      ]
     },
     "metadata": {},
     "output_type": "display_data"
    }
   ],
   "source": [
    "eigenface_titles = [\"eigenface %d\" % i for i in range(eigenfaces.shape[0])]\n",
    "plot_gallery(eigenfaces, eigenface_titles, h, w)\n",
    "\n",
    "plt.show()"
   ]
  },
  {
   "cell_type": "markdown",
   "metadata": {},
   "source": [
    "Face recognition problem would be much more effectively solved by training\n",
    "convolutional neural networks but this family of models is outside of the scope of\n",
    "the scikit-learn library. Interested readers should instead try to use pytorch or\n",
    "tensorflow to implement such models.\n",
    "\n"
   ]
  }
 ],
 "metadata": {
  "interpreter": {
   "hash": "d06ec01a93bf08e6d74d35bb9d7b870cf851bcf3e2b8658e0377fbfc63638b78"
  },
  "kernelspec": {
   "display_name": "Python 3.9.2 64-bit",
   "language": "python",
   "name": "python3"
  },
  "language_info": {
   "codemirror_mode": {
    "name": "ipython",
    "version": 3
   },
   "file_extension": ".py",
   "mimetype": "text/x-python",
   "name": "python",
   "nbconvert_exporter": "python",
   "pygments_lexer": "ipython3",
   "version": "3.9.2"
  }
 },
 "nbformat": 4,
 "nbformat_minor": 1
}
